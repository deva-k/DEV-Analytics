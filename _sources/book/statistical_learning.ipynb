{
 "cells": [
  {
   "cell_type": "markdown",
   "metadata": {},
   "source": [
    "# Introduction to Statistical Learning"
   ]
  },
  {
   "cell_type": "markdown",
   "metadata": {},
   "source": [
    "<div style='text-align: justify;'>\n",
    "The general idea behind statistical learning or modelling of data is to understand the data and develop methods\n",
    "that are broadly classified as <b>supervised</b> and <b>unsupervised</b>. \n",
    "\n",
    "If one wants to predict or estimate a future *outcome* or *output* based on several influencing *variables* or *inputs*\n",
    "such type of modelling is called supervised statistical learning.\n",
    "On the contrary, if we have just the inputs and no expected output, we might want to understand the underlying \n",
    "relationships and structure of the data. These models are called unsupervised statistical learning models.\n",
    "</div>"
   ]
  }
 ],
 "metadata": {
  "kernelspec": {
   "display_name": "Python 3",
   "language": "python",
   "name": "python3"
  },
  "language_info": {
   "codemirror_mode": {
    "name": "ipython",
    "version": 3
   },
   "file_extension": ".py",
   "mimetype": "text/x-python",
   "name": "python",
   "nbconvert_exporter": "python",
   "pygments_lexer": "ipython3",
   "version": "3.8.0"
  },
  "widgets": {
   "application/vnd.jupyter.widget-state+json": {
    "state": {},
    "version_major": 2,
    "version_minor": 0
   }
  }
 },
 "nbformat": 4,
 "nbformat_minor": 4
}
