{
 "cells": [
  {
   "cell_type": "markdown",
   "metadata": {},
   "source": [
    "# Basics"
   ]
  },
  {
   "cell_type": "markdown",
   "metadata": {},
   "source": [
    "## Triangles"
   ]
  },
  {
   "cell_type": "markdown",
   "metadata": {},
   "source": [
    "<b>Complementary angles</b>: Sum of two angles is 90 $^{\\circ}$ <br>\n",
    "<b>Supplementary angles</b>: Sum of two angles is 180 $^{\\circ}$ <br>\n",
    "\n",
    "<b>Adjacent angles</b>: \n",
    "1. They have a common vertex;\n",
    "2. They have a common arm; and\n",
    "3. The non-common arm are on either side of the common arm.<br>\n",
    "\n",
    "<b>Linear pair</b>: A linear pair is a pair of adjacent angles whose non-common sides are opposite rays. These are supplementary angles. <br>\n",
    "![title](images/linear_pair.jpeg) <br>\n",
    "\n",
    "When two lines intersect, the vertically opposite angles so formed are equal. <br>\n",
    "\n",
    "<b>Angles made by a transversal.</b> <br>\n",
    "![title](images/angles_made_by_transversal.jpeg) <br>\n",
    "\n",
    "1. Interior angles - $\\angle$ 1, $\\angle$ 3, $\\angle$ 6, $\\angle$ 8\n",
    "2. Exterior angles - $\\angle$ 2, $\\angle$ 4, $\\angle$ 5, $\\angle$ 7\n",
    "3. Corresponding angles - $\\angle$ 1 and $\\angle$ 2, $\\angle$ 3 and $\\angle$ 4, $\\angle$ 5 and $\\angle$ 6, $\\angle$ 7 and $\\angle$ 8\n",
    "4. Alternate interior angles - $\\angle$ 1 and $\\angle$ 6, $\\angle$ 3 and $\\angle$ 8\n",
    "5. Alternate exterior angles - $\\angle$ 2 and $\\angle$ 5, $\\angle$ 4 and $\\angle$ 7\n",
    "6. Pair of interior angles on the same side of the transversal - $\\angle$ 1 and $\\angle$ 8, $\\angle$ 3 and $\\angle$ 6 <br>\n",
    "\n",
    "If two parallel lines are cut by a transversal, each pair of alternate interior angles are equal. Also, each pair of interior angles on the same side of transversal are supplementary. <br>\n",
    "\n",
    "<b> Median of a Triangle </b> <br>\n",
    "![title](images/median_triangle.jpeg) <br>\n",
    "The line segment $AD$, joining the mid-point of $\\overline{BC}$ to its opposite vertex $A$ is called a median of the triangle. <br>\n",
    "\n",
    "An exterior angle of a triangle, is equal to the sum of its interior opposite angles. <br>\n",
    "\n",
    "A triangle in which two sides are of equal leangths is called isosceles triangle. <br>\n",
    "\n",
    "The sum of the lengths of any two sides of the triangle is greater than the third side. <br>\n",
    "\n",
    "<b> Congruence of Angles </b> <br>\n",
    "If two angles have the same measure, they are congruent. Also, if two angles are congruent, their measures are same.<br>\n",
    "Regarding congruence of triangles, not only the measure of the angles and the lengths of sides matter, but also the matching of vertices. <br>\n",
    "1. SSS - All three sides of a triangle are equal to the three corresponding sides of another triangle. <br>\n",
    "2. SAS - If two sides and the angle included between them are equal to the corresponding triangle."
   ]
  },
  {
   "cell_type": "markdown",
   "metadata": {},
   "source": [
    "<b> Rational number </b> - A number that can be expressed in the form $\\frac{p}{q}$ , where $p$ and $q$ are integers and $q$ $\\neq$ 0"
   ]
  },
  {
   "cell_type": "markdown",
   "metadata": {},
   "source": []
  },
  {
   "cell_type": "markdown",
   "metadata": {},
   "source": []
  }
 ],
 "metadata": {
  "kernelspec": {
   "display_name": "myenv",
   "language": "python",
   "name": "python3"
  },
  "language_info": {
   "name": "python",
   "version": "3.11.8"
  }
 },
 "nbformat": 4,
 "nbformat_minor": 2
}
